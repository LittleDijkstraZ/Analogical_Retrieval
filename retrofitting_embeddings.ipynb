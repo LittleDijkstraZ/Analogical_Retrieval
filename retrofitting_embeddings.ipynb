{
 "cells": [
  {
   "cell_type": "code",
   "execution_count": 1,
   "metadata": {},
   "outputs": [
    {
     "name": "stderr",
     "output_type": "stream",
     "text": [
      "/home/dijkstraz/anaconda3/envs/colab/lib/python3.10/site-packages/beir/util.py:2: TqdmExperimentalWarning: Using `tqdm.autonotebook.tqdm` in notebook mode. Use `tqdm.tqdm` instead to force console mode (e.g. in jupyter console)\n",
      "  from tqdm.autonotebook import tqdm\n",
      "/home/dijkstraz/anaconda3/envs/colab/lib/python3.10/site-packages/transformers/utils/hub.py:128: FutureWarning: Using `TRANSFORMERS_CACHE` is deprecated and will be removed in v5 of Transformers. Use `HF_HOME` instead.\n",
      "  warnings.warn(\n"
     ]
    }
   ],
   "source": [
    "from beir import util, LoggingHandler\n",
    "from beir.retrieval import models\n",
    "from beir.datasets.data_loader import GenericDataLoader\n",
    "from beir.retrieval.evaluation import EvaluateRetrieval\n",
    "from beir.retrieval.search.dense import DenseRetrievalExactSearch as DRES\n",
    "\n",
    "import logging\n",
    "import pathlib, os\n",
    "\n",
    "#### Just some code to print debug information to stdout\n",
    "logging.basicConfig(format='%(asctime)s - %(message)s',\n",
    "                    datefmt='%Y-%m-%d %H:%M:%S',\n",
    "                    level=logging.INFO,\n",
    "                    handlers=[LoggingHandler()])\n",
    "\n",
    "\n",
    "from torchdr import PCA, TSNE\n",
    "from sentence_transformers import SentenceTransformer\n",
    "import pandas as pd\n"
   ]
  },
  {
   "cell_type": "code",
   "execution_count": null,
   "metadata": {},
   "outputs": [
    {
     "name": "stdout",
     "output_type": "stream",
     "text": [
      "2025-02-03 02:45:15 - Loading Corpus...\n"
     ]
    },
    {
     "data": {
      "application/vnd.jupyter.widget-view+json": {
       "model_id": "60763715c49b48818676ccd6cc786700",
       "version_major": 2,
       "version_minor": 0
      },
      "text/plain": [
       "  0%|          | 0/5183 [00:00<?, ?it/s]"
      ]
     },
     "metadata": {},
     "output_type": "display_data"
    },
    {
     "name": "stdout",
     "output_type": "stream",
     "text": [
      "2025-02-03 02:45:15 - Loaded 5183 TEST Documents.\n",
      "2025-02-03 02:45:15 - Doc Example: {'text': 'Alterations of the architecture of cerebral white matter in the developing human brain can affect cortical development and result in functional disabilities. A line scan diffusion-weighted magnetic resonance imaging (MRI) sequence with diffusion tensor analysis was applied to measure the apparent diffusion coefficient, to calculate relative anisotropy, and to delineate three-dimensional fiber architecture in cerebral white matter in preterm (n = 17) and full-term infants (n = 7). To assess effects of prematurity on cerebral white matter development, early gestation preterm infants (n = 10) were studied a second time at term. In the central white matter the mean apparent diffusion coefficient at 28 wk was high, 1.8 microm2/ms, and decreased toward term to 1.2 microm2/ms. In the posterior limb of the internal capsule, the mean apparent diffusion coefficients at both times were similar (1.2 versus 1.1 microm2/ms). Relative anisotropy was higher the closer birth was to term with greater absolute values in the internal capsule than in the central white matter. Preterm infants at term showed higher mean diffusion coefficients in the central white matter (1.4 +/- 0.24 versus 1.15 +/- 0.09 microm2/ms, p = 0.016) and lower relative anisotropy in both areas compared with full-term infants (white matter, 10.9 +/- 0.6 versus 22.9 +/- 3.0%, p = 0.001; internal capsule, 24.0 +/- 4.44 versus 33.1 +/- 0.6% p = 0.006). Nonmyelinated fibers in the corpus callosum were visible by diffusion tensor MRI as early as 28 wk; full-term and preterm infants at term showed marked differences in white matter fiber organization. The data indicate that quantitative assessment of water diffusion by diffusion tensor MRI provides insight into microstructural development in cerebral white matter in living infants.', 'title': 'Microstructural development of human newborn cerebral white matter assessed in vivo by diffusion tensor magnetic resonance imaging.'}\n",
      "2025-02-03 02:45:15 - Loading Queries...\n",
      "2025-02-03 02:45:15 - Loaded 300 TEST Queries.\n",
      "2025-02-03 02:45:15 - Query Example: 0-dimensional biomaterials show inductive properties.\n",
      "2025-02-03 02:45:15 - Use pytorch device_name: cuda\n",
      "2025-02-03 02:45:15 - Load pretrained SentenceTransformer: all-MiniLM-L12-v1\n",
      "2025-02-03 02:45:16 - Encoding Queries...\n"
     ]
    },
    {
     "data": {
      "application/vnd.jupyter.widget-view+json": {
       "model_id": "406e067d1e2e4816aaab2d3024bf58b3",
       "version_major": 2,
       "version_minor": 0
      },
      "text/plain": [
       "Batches:   0%|          | 0/3 [00:00<?, ?it/s]"
      ]
     },
     "metadata": {},
     "output_type": "display_data"
    },
    {
     "name": "stdout",
     "output_type": "stream",
     "text": [
      "2025-02-03 02:45:17 - Sorting Corpus by document length (Longest first)...\n",
      "2025-02-03 02:45:17 - Encoding Corpus in batches... Warning: This might take a while!\n",
      "2025-02-03 02:45:17 - Scoring Function: Dot Product (dot)\n",
      "2025-02-03 02:45:17 - Encoding Batch 1/1...\n"
     ]
    },
    {
     "data": {
      "application/vnd.jupyter.widget-view+json": {
       "model_id": "adeccef1db3642268f2517a1173d38cb",
       "version_major": 2,
       "version_minor": 0
      },
      "text/plain": [
       "Batches:   0%|          | 0/41 [00:00<?, ?it/s]"
      ]
     },
     "metadata": {},
     "output_type": "display_data"
    },
    {
     "name": "stdout",
     "output_type": "stream",
     "text": [
      "torch.Size([5183, 384])\n",
      "2025-02-03 02:45:20 - For evaluation, we ignore identical query and document ids (default), please explicitly set ``ignore_identical_ids=False`` to ignore this.\n",
      "2025-02-03 02:45:20 - \n",
      "\n",
      "2025-02-03 02:45:20 - NDCG@1: 0.4700\n",
      "2025-02-03 02:45:20 - NDCG@3: 0.5350\n",
      "2025-02-03 02:45:20 - NDCG@5: 0.5602\n",
      "2025-02-03 02:45:20 - NDCG@10: 0.5929\n",
      "2025-02-03 02:45:20 - NDCG@100: 0.6354\n",
      "2025-02-03 02:45:20 - NDCG@1000: 0.6445\n",
      "2025-02-03 02:45:20 - \n",
      "\n",
      "2025-02-03 02:45:20 - MAP@1: 0.4521\n",
      "2025-02-03 02:45:20 - MAP@3: 0.5117\n",
      "2025-02-03 02:45:20 - MAP@5: 0.5287\n",
      "2025-02-03 02:45:20 - MAP@10: 0.5439\n",
      "2025-02-03 02:45:20 - MAP@100: 0.5537\n",
      "2025-02-03 02:45:20 - MAP@1000: 0.5540\n",
      "2025-02-03 02:45:20 - \n",
      "\n",
      "2025-02-03 02:45:20 - Recall@1: 0.4521\n",
      "2025-02-03 02:45:20 - Recall@3: 0.5762\n",
      "2025-02-03 02:45:20 - Recall@5: 0.6373\n",
      "2025-02-03 02:45:20 - Recall@10: 0.7329\n",
      "2025-02-03 02:45:20 - Recall@100: 0.9233\n",
      "2025-02-03 02:45:20 - Recall@1000: 0.9967\n",
      "2025-02-03 02:45:20 - \n",
      "\n",
      "2025-02-03 02:45:20 - P@1: 0.4700\n",
      "2025-02-03 02:45:20 - P@3: 0.2067\n",
      "2025-02-03 02:45:20 - P@5: 0.1407\n",
      "2025-02-03 02:45:20 - P@10: 0.0830\n",
      "2025-02-03 02:45:20 - P@100: 0.0105\n",
      "2025-02-03 02:45:20 - P@1000: 0.0011\n",
      "2025-02-03 02:45:20 - Use pytorch device_name: cuda\n",
      "2025-02-03 02:45:20 - Load pretrained SentenceTransformer: all-MiniLM-L12-v1\n",
      "2025-02-03 02:45:20 - Encoding Queries...\n"
     ]
    },
    {
     "data": {
      "application/vnd.jupyter.widget-view+json": {
       "model_id": "d135322036164da187fb63c651780063",
       "version_major": 2,
       "version_minor": 0
      },
      "text/plain": [
       "Batches:   0%|          | 0/3 [00:00<?, ?it/s]"
      ]
     },
     "metadata": {},
     "output_type": "display_data"
    },
    {
     "name": "stdout",
     "output_type": "stream",
     "text": [
      "2025-02-03 02:45:20 - Sorting Corpus by document length (Longest first)...\n",
      "2025-02-03 02:45:20 - Encoding Corpus in batches... Warning: This might take a while!\n",
      "2025-02-03 02:45:20 - Scoring Function: Dot Product (dot)\n",
      "2025-02-03 02:45:20 - Encoding Batch 1/1...\n"
     ]
    },
    {
     "data": {
      "application/vnd.jupyter.widget-view+json": {
       "model_id": "11308ff850a647fb888ce581149ee01e",
       "version_major": 2,
       "version_minor": 0
      },
      "text/plain": [
       "Batches:   0%|          | 0/41 [00:00<?, ?it/s]"
      ]
     },
     "metadata": {},
     "output_type": "display_data"
    },
    {
     "name": "stdout",
     "output_type": "stream",
     "text": [
      "torch.Size([5183, 384])\n",
      "2025-02-03 02:45:23 - For evaluation, we ignore identical query and document ids (default), please explicitly set ``ignore_identical_ids=False`` to ignore this.\n",
      "2025-02-03 02:45:23 - \n",
      "\n",
      "2025-02-03 02:45:23 - NDCG@1: 0.4967\n",
      "2025-02-03 02:45:23 - NDCG@3: 0.5694\n",
      "2025-02-03 02:45:23 - NDCG@5: 0.5942\n",
      "2025-02-03 02:45:23 - NDCG@10: 0.6217\n",
      "2025-02-03 02:45:23 - NDCG@100: 0.6599\n",
      "2025-02-03 02:45:23 - NDCG@1000: 0.6677\n",
      "2025-02-03 02:45:23 - \n",
      "\n",
      "2025-02-03 02:45:23 - MAP@1: 0.4814\n",
      "2025-02-03 02:45:23 - MAP@3: 0.5446\n",
      "2025-02-03 02:45:23 - MAP@5: 0.5616\n",
      "2025-02-03 02:45:23 - MAP@10: 0.5754\n",
      "2025-02-03 02:45:23 - MAP@100: 0.5838\n",
      "2025-02-03 02:45:23 - MAP@1000: 0.5841\n",
      "2025-02-03 02:45:23 - \n",
      "\n",
      "2025-02-03 02:45:23 - Recall@1: 0.4814\n",
      "2025-02-03 02:45:23 - Recall@3: 0.6159\n",
      "2025-02-03 02:45:23 - Recall@5: 0.6769\n",
      "2025-02-03 02:45:23 - Recall@10: 0.7540\n",
      "2025-02-03 02:45:23 - Recall@100: 0.9300\n",
      "2025-02-03 02:45:23 - Recall@1000: 0.9917\n",
      "2025-02-03 02:45:23 - \n",
      "\n",
      "2025-02-03 02:45:23 - P@1: 0.4967\n",
      "2025-02-03 02:45:23 - P@3: 0.2233\n",
      "2025-02-03 02:45:23 - P@5: 0.1507\n",
      "2025-02-03 02:45:23 - P@10: 0.0857\n",
      "2025-02-03 02:45:23 - P@100: 0.0106\n",
      "2025-02-03 02:45:23 - P@1000: 0.0011\n",
      "2025-02-03 02:45:23 - Use pytorch device_name: cuda\n",
      "2025-02-03 02:45:23 - Load pretrained SentenceTransformer: all-mpnet-base-v2\n"
     ]
    },
    {
     "data": {
      "application/vnd.jupyter.widget-view+json": {
       "model_id": "a93287568d264b7b8f58741d3a844d7e",
       "version_major": 2,
       "version_minor": 0
      },
      "text/plain": [
       "modules.json:   0%|          | 0.00/349 [00:00<?, ?B/s]"
      ]
     },
     "metadata": {},
     "output_type": "display_data"
    },
    {
     "data": {
      "application/vnd.jupyter.widget-view+json": {
       "model_id": "62a480d08bce4afeb172cbf88a1a9d83",
       "version_major": 2,
       "version_minor": 0
      },
      "text/plain": [
       "config_sentence_transformers.json:   0%|          | 0.00/116 [00:00<?, ?B/s]"
      ]
     },
     "metadata": {},
     "output_type": "display_data"
    },
    {
     "data": {
      "application/vnd.jupyter.widget-view+json": {
       "model_id": "c7c484aa4d0f47ef9525c64893f00436",
       "version_major": 2,
       "version_minor": 0
      },
      "text/plain": [
       "README.md:   0%|          | 0.00/10.6k [00:00<?, ?B/s]"
      ]
     },
     "metadata": {},
     "output_type": "display_data"
    },
    {
     "data": {
      "application/vnd.jupyter.widget-view+json": {
       "model_id": "f6a1d4e276c34b4ba65a46430d5c46b8",
       "version_major": 2,
       "version_minor": 0
      },
      "text/plain": [
       "sentence_bert_config.json:   0%|          | 0.00/53.0 [00:00<?, ?B/s]"
      ]
     },
     "metadata": {},
     "output_type": "display_data"
    },
    {
     "data": {
      "application/vnd.jupyter.widget-view+json": {
       "model_id": "daa0978c2aaa4973aa37ba238cafe93c",
       "version_major": 2,
       "version_minor": 0
      },
      "text/plain": [
       "config.json:   0%|          | 0.00/571 [00:00<?, ?B/s]"
      ]
     },
     "metadata": {},
     "output_type": "display_data"
    },
    {
     "data": {
      "application/vnd.jupyter.widget-view+json": {
       "model_id": "2b6f062abf7e4269a4815526d1e0c356",
       "version_major": 2,
       "version_minor": 0
      },
      "text/plain": [
       "model.safetensors:   0%|          | 0.00/438M [00:00<?, ?B/s]"
      ]
     },
     "metadata": {},
     "output_type": "display_data"
    },
    {
     "data": {
      "application/vnd.jupyter.widget-view+json": {
       "model_id": "f4be33f47dc84aa08cbfc15c6481266a",
       "version_major": 2,
       "version_minor": 0
      },
      "text/plain": [
       "tokenizer_config.json:   0%|          | 0.00/363 [00:00<?, ?B/s]"
      ]
     },
     "metadata": {},
     "output_type": "display_data"
    },
    {
     "data": {
      "application/vnd.jupyter.widget-view+json": {
       "model_id": "1903867842e74c269d58c9715a352072",
       "version_major": 2,
       "version_minor": 0
      },
      "text/plain": [
       "vocab.txt:   0%|          | 0.00/232k [00:00<?, ?B/s]"
      ]
     },
     "metadata": {},
     "output_type": "display_data"
    },
    {
     "data": {
      "application/vnd.jupyter.widget-view+json": {
       "model_id": "846ae4bdb9d045b8b331e840f3c69462",
       "version_major": 2,
       "version_minor": 0
      },
      "text/plain": [
       "tokenizer.json:   0%|          | 0.00/466k [00:00<?, ?B/s]"
      ]
     },
     "metadata": {},
     "output_type": "display_data"
    },
    {
     "data": {
      "application/vnd.jupyter.widget-view+json": {
       "model_id": "e7fa6069d878498da38947f0ad3a324e",
       "version_major": 2,
       "version_minor": 0
      },
      "text/plain": [
       "special_tokens_map.json:   0%|          | 0.00/239 [00:00<?, ?B/s]"
      ]
     },
     "metadata": {},
     "output_type": "display_data"
    },
    {
     "data": {
      "application/vnd.jupyter.widget-view+json": {
       "model_id": "0febc25748c54f7f8e60705ad8f7113a",
       "version_major": 2,
       "version_minor": 0
      },
      "text/plain": [
       "1_Pooling/config.json:   0%|          | 0.00/190 [00:00<?, ?B/s]"
      ]
     },
     "metadata": {},
     "output_type": "display_data"
    },
    {
     "name": "stdout",
     "output_type": "stream",
     "text": [
      "2025-02-03 02:45:34 - Encoding Queries...\n"
     ]
    },
    {
     "data": {
      "application/vnd.jupyter.widget-view+json": {
       "model_id": "cd976fca8af04a00b4d45a90fdc3b238",
       "version_major": 2,
       "version_minor": 0
      },
      "text/plain": [
       "Batches:   0%|          | 0/3 [00:00<?, ?it/s]"
      ]
     },
     "metadata": {},
     "output_type": "display_data"
    },
    {
     "name": "stdout",
     "output_type": "stream",
     "text": [
      "2025-02-03 02:45:34 - Sorting Corpus by document length (Longest first)...\n",
      "2025-02-03 02:45:34 - Encoding Corpus in batches... Warning: This might take a while!\n",
      "2025-02-03 02:45:34 - Scoring Function: Dot Product (dot)\n",
      "2025-02-03 02:45:34 - Encoding Batch 1/1...\n"
     ]
    },
    {
     "data": {
      "application/vnd.jupyter.widget-view+json": {
       "model_id": "6b6229b4791c40bebe59cee28b9f869f",
       "version_major": 2,
       "version_minor": 0
      },
      "text/plain": [
       "Batches:   0%|          | 0/41 [00:00<?, ?it/s]"
      ]
     },
     "metadata": {},
     "output_type": "display_data"
    },
    {
     "name": "stdout",
     "output_type": "stream",
     "text": [
      "torch.Size([5183, 768])\n",
      "2025-02-03 02:45:48 - For evaluation, we ignore identical query and document ids (default), please explicitly set ``ignore_identical_ids=False`` to ignore this.\n",
      "2025-02-03 02:45:48 - \n",
      "\n",
      "2025-02-03 02:45:48 - NDCG@1: 0.4800\n",
      "2025-02-03 02:45:48 - NDCG@3: 0.5610\n",
      "2025-02-03 02:45:48 - NDCG@5: 0.5847\n",
      "2025-02-03 02:45:48 - NDCG@10: 0.6107\n",
      "2025-02-03 02:45:48 - NDCG@100: 0.6548\n",
      "2025-02-03 02:45:48 - NDCG@1000: 0.6618\n",
      "2025-02-03 02:45:48 - \n",
      "\n",
      "2025-02-03 02:45:48 - MAP@1: 0.4587\n",
      "2025-02-03 02:45:48 - MAP@3: 0.5316\n",
      "2025-02-03 02:45:48 - MAP@5: 0.5481\n",
      "2025-02-03 02:45:48 - MAP@10: 0.5607\n",
      "2025-02-03 02:45:48 - MAP@100: 0.5710\n",
      "2025-02-03 02:45:48 - MAP@1000: 0.5713\n",
      "2025-02-03 02:45:48 - \n",
      "\n",
      "2025-02-03 02:45:48 - Recall@1: 0.4587\n",
      "2025-02-03 02:45:48 - Recall@3: 0.6148\n",
      "2025-02-03 02:45:48 - Recall@5: 0.6731\n",
      "2025-02-03 02:45:48 - Recall@10: 0.7480\n",
      "2025-02-03 02:45:48 - Recall@100: 0.9450\n",
      "2025-02-03 02:45:48 - Recall@1000: 1.0000\n",
      "2025-02-03 02:45:48 - \n",
      "\n",
      "2025-02-03 02:45:48 - P@1: 0.4800\n",
      "2025-02-03 02:45:48 - P@3: 0.2211\n",
      "2025-02-03 02:45:48 - P@5: 0.1487\n",
      "2025-02-03 02:45:48 - P@10: 0.0847\n",
      "2025-02-03 02:45:48 - P@100: 0.0107\n",
      "2025-02-03 02:45:48 - P@1000: 0.0011\n",
      "2025-02-03 02:45:48 - Use pytorch device_name: cuda\n",
      "2025-02-03 02:45:48 - Load pretrained SentenceTransformer: all-mpnet-base-v2\n",
      "2025-02-03 02:45:49 - Encoding Queries...\n"
     ]
    },
    {
     "data": {
      "application/vnd.jupyter.widget-view+json": {
       "model_id": "e5f004bfba2e4410ba4e5030934a4479",
       "version_major": 2,
       "version_minor": 0
      },
      "text/plain": [
       "Batches:   0%|          | 0/3 [00:00<?, ?it/s]"
      ]
     },
     "metadata": {},
     "output_type": "display_data"
    },
    {
     "name": "stdout",
     "output_type": "stream",
     "text": [
      "2025-02-03 02:45:49 - Sorting Corpus by document length (Longest first)...\n",
      "2025-02-03 02:45:49 - Encoding Corpus in batches... Warning: This might take a while!\n",
      "2025-02-03 02:45:49 - Scoring Function: Dot Product (dot)\n",
      "2025-02-03 02:45:49 - Encoding Batch 1/1...\n"
     ]
    },
    {
     "data": {
      "application/vnd.jupyter.widget-view+json": {
       "model_id": "adca7cd262d04a829e5b11b5199713bf",
       "version_major": 2,
       "version_minor": 0
      },
      "text/plain": [
       "Batches:   0%|          | 0/41 [00:00<?, ?it/s]"
      ]
     },
     "metadata": {},
     "output_type": "display_data"
    },
    {
     "name": "stdout",
     "output_type": "stream",
     "text": [
      "torch.Size([5183, 768])\n",
      "2025-02-03 02:46:02 - For evaluation, we ignore identical query and document ids (default), please explicitly set ``ignore_identical_ids=False`` to ignore this.\n",
      "2025-02-03 02:46:02 - \n",
      "\n",
      "2025-02-03 02:46:02 - NDCG@1: 0.4967\n",
      "2025-02-03 02:46:02 - NDCG@3: 0.5821\n",
      "2025-02-03 02:46:02 - NDCG@5: 0.6121\n",
      "2025-02-03 02:46:02 - NDCG@10: 0.6331\n",
      "2025-02-03 02:46:02 - NDCG@100: 0.6738\n",
      "2025-02-03 02:46:02 - NDCG@1000: 0.6803\n",
      "2025-02-03 02:46:02 - \n",
      "\n",
      "2025-02-03 02:46:02 - MAP@1: 0.4779\n",
      "2025-02-03 02:46:02 - MAP@3: 0.5533\n",
      "2025-02-03 02:46:02 - MAP@5: 0.5737\n",
      "2025-02-03 02:46:02 - MAP@10: 0.5843\n",
      "2025-02-03 02:46:02 - MAP@100: 0.5942\n",
      "2025-02-03 02:46:02 - MAP@1000: 0.5945\n",
      "2025-02-03 02:46:02 - \n",
      "\n",
      "2025-02-03 02:46:02 - Recall@1: 0.4779\n",
      "2025-02-03 02:46:02 - Recall@3: 0.6381\n",
      "2025-02-03 02:46:02 - Recall@5: 0.7118\n",
      "2025-02-03 02:46:02 - Recall@10: 0.7694\n",
      "2025-02-03 02:46:02 - Recall@100: 0.9483\n",
      "2025-02-03 02:46:02 - Recall@1000: 0.9967\n",
      "2025-02-03 02:46:02 - \n",
      "\n",
      "2025-02-03 02:46:02 - P@1: 0.4967\n",
      "2025-02-03 02:46:02 - P@3: 0.2311\n",
      "2025-02-03 02:46:02 - P@5: 0.1573\n",
      "2025-02-03 02:46:02 - P@10: 0.0870\n",
      "2025-02-03 02:46:02 - P@100: 0.0108\n",
      "2025-02-03 02:46:02 - P@1000: 0.0011\n",
      "2025-02-03 02:46:02 - Loading Corpus...\n"
     ]
    },
    {
     "data": {
      "application/vnd.jupyter.widget-view+json": {
       "model_id": "c348270edf4c445fa6f5da5dc80627a5",
       "version_major": 2,
       "version_minor": 0
      },
      "text/plain": [
       "  0%|          | 0/25657 [00:00<?, ?it/s]"
      ]
     },
     "metadata": {},
     "output_type": "display_data"
    },
    {
     "name": "stdout",
     "output_type": "stream",
     "text": [
      "2025-02-03 02:46:03 - Loaded 25657 TEST Documents.\n",
      "2025-02-03 02:46:03 - Doc Example: {'text': 'An evolutionary recurrent network which automates the design of recurrent neural/fuzzy networks using a new evolutionary learning algorithm is proposed in this paper. This new evolutionary learning algorithm is based on a hybrid of genetic algorithm (GA) and particle swarm optimization (PSO), and is thus called HGAPSO. In HGAPSO, individuals in a new generation are created, not only by crossover and mutation operation as in GA, but also by PSO. The concept of elite strategy is adopted in HGAPSO, where the upper-half of the best-performing individuals in a population are regarded as elites. However, instead of being reproduced directly to the next generation, these elites are first enhanced. The group constituted by the elites is regarded as a swarm, and each elite corresponds to a particle within it. In this regard, the elites are enhanced by PSO, an operation which mimics the maturing phenomenon in nature. These enhanced elites constitute half of the population in the new generation, whereas the other half is generated by performing crossover and mutation operation on these enhanced elites. HGAPSO is applied to recurrent neural/fuzzy network design as follows. For recurrent neural network, a fully connected recurrent neural network is designed and applied to a temporal sequence production problem. For recurrent fuzzy network design, a Takagi-Sugeno-Kang-type recurrent fuzzy network is designed and applied to dynamic plant control. The performance of HGAPSO is compared to both GA and PSO in these recurrent networks design problems, demonstrating its superiority.', 'title': 'A hybrid of genetic algorithm and particle swarm optimization for recurrent network design'}\n",
      "2025-02-03 02:46:03 - Loading Queries...\n",
      "2025-02-03 02:46:03 - Loaded 1000 TEST Queries.\n",
      "2025-02-03 02:46:03 - Query Example: A Direct Search Method to solve Economic Dispatch Problem with Valve-Point Effect\n",
      "2025-02-03 02:46:03 - Use pytorch device_name: cuda\n",
      "2025-02-03 02:46:03 - Load pretrained SentenceTransformer: all-MiniLM-L12-v1\n",
      "2025-02-03 02:46:04 - Encoding Queries...\n"
     ]
    },
    {
     "data": {
      "application/vnd.jupyter.widget-view+json": {
       "model_id": "01778ebb076e49799f39de19bda48a7f",
       "version_major": 2,
       "version_minor": 0
      },
      "text/plain": [
       "Batches:   0%|          | 0/8 [00:00<?, ?it/s]"
      ]
     },
     "metadata": {},
     "output_type": "display_data"
    },
    {
     "name": "stdout",
     "output_type": "stream",
     "text": [
      "2025-02-03 02:46:04 - Sorting Corpus by document length (Longest first)...\n",
      "2025-02-03 02:46:04 - Encoding Corpus in batches... Warning: This might take a while!\n",
      "2025-02-03 02:46:04 - Scoring Function: Dot Product (dot)\n",
      "2025-02-03 02:46:04 - Encoding Batch 1/1...\n"
     ]
    },
    {
     "data": {
      "application/vnd.jupyter.widget-view+json": {
       "model_id": "85dfb200e8d04bc99ca127a651af4533",
       "version_major": 2,
       "version_minor": 0
      },
      "text/plain": [
       "Batches:   0%|          | 0/201 [00:00<?, ?it/s]"
      ]
     },
     "metadata": {},
     "output_type": "display_data"
    }
   ],
   "source": [
    "model_name_list =[\n",
    "    # 'all-mpnet-base-v2', #  0.5481, 0.2312, 0.2559 (1 mins) (2312, 2559)\n",
    "    # # 'all-mpnet-base-v2', #[full 10] 2414 -> 2684kwo, 2440kw, 2298kp, 2740kpo, 2352kso, 2399ks\n",
    "    # 'sentence-t5-xl', #[full] 0.6754, 0.2543, 0.2990\n",
    "\n",
    "    'all-MiniLM-L12-v1',\n",
    "    'all-mpnet-base-v2',\n",
    "]\n",
    "\n",
    "reduction_classes = {\n",
    "    'pca': PCA,\n",
    "    # 'tsne': TSNE\n",
    "}\n",
    "\n",
    "class idenity_reduction:\n",
    "\n",
    "    def __init__(self, *args, **kwargs):\n",
    "        pass\n",
    "\n",
    "    def fit(self, x):\n",
    "        pass\n",
    "\n",
    "    def transform(self, x):\n",
    "        return x\n",
    "\n",
    "class ST_wrapper(SentenceTransformer):\n",
    "    def __init__(self, model_name, reduction_type = 'x', reduction_kwargs={}, *args, **kwargs):\n",
    "        super(ST_wrapper, self).__init__(model_name, *args, **kwargs)\n",
    "        if reduction_type == 'x':\n",
    "            self.reduction = idenity_reduction()\n",
    "        else:\n",
    "            self.reduction = reduction_classes[reduction_type](**reduction_kwargs)\n",
    "\n",
    "    def encode_queries(self, queries, *args, **kwargs):\n",
    "        embeddings = self.encode(queries, *args, **kwargs)\n",
    "        self.reduction.fit(embeddings)\n",
    "        return self.reduction.transform(embeddings)\n",
    "\n",
    "    def encode_corpus(self, corpus, *args, **kwargs):\n",
    "        embeddings = self.encode(corpus, *args, **kwargs)\n",
    "        print(embeddings.shape)\n",
    "        return self.reduction.transform(embeddings)\n",
    "\n",
    "\n",
    "reduction_kwargs_choices = {\n",
    "    'x': {},\n",
    "    'pca': {'n_components': 128},\n",
    "    # 'tsne': {'perplexity': 30}\n",
    "}\n",
    "\n",
    "results_dict = {}\n",
    "\n",
    "out_dir = \"./beir\"\n",
    "os.mkdir(out_dir) if not os.path.exists(out_dir) else None\n",
    "#### /print debug information to stdout\n",
    "\n",
    "#### Download scifact.zip dataset and unzip the dataset\n",
    "dataset_list = ['scifact', 'scidocs', 'climate-fever', 'hotpotqa']\n",
    "\n",
    "df_list = []\n",
    "for dataset in dataset_list:\n",
    "\n",
    "    # dataset = \"scidocs\"\n",
    "    url = \"https://public.ukp.informatik.tu-darmstadt.de/thakur/BEIR/datasets/{}.zip\".format(dataset)\n",
    "\n",
    "    data_path = util.download_and_unzip(url, out_dir)\n",
    "\n",
    "    #### Provide the data_path where scifact has been downloaded and unzipped\n",
    "    corpus, queries, qrels = GenericDataLoader(data_folder=data_path).load(split=\"test\")\n",
    "\n",
    "\n",
    "    for model_name in model_name_list:\n",
    "        for reduction_type in ['pca', 'x', ]:\n",
    "\n",
    "            model = ST_wrapper(model_name, reduction_type, reduction_kwargs_choices[reduction_type])\n",
    "            model = DRES(model, batch_size=128)\n",
    "\n",
    "            retriever = EvaluateRetrieval(model, score_function=\"dot\") # or \"cos_sim\" for cosine similarity\n",
    "            results = retriever.retrieve(corpus, queries)\n",
    "            ndcg, _map, recall, precision = retriever.evaluate(qrels, results, retriever.k_values)\n",
    "            results_dict[(model_name, reduction_type)] = {}\n",
    "            for result in [ndcg, _map, recall, precision]:\n",
    "                for k, v in result.items():\n",
    "                    results_dict[(model_name, reduction_type)][k] = v\n",
    "\n",
    "        df = pd.DataFrame(results_dict)\n",
    "        df_list.append(df)"
   ]
  },
  {
   "cell_type": "code",
   "execution_count": 5,
   "metadata": {},
   "outputs": [
    {
     "data": {
      "text/html": [
       "<div>\n",
       "<style scoped>\n",
       "    .dataframe tbody tr th:only-of-type {\n",
       "        vertical-align: middle;\n",
       "    }\n",
       "\n",
       "    .dataframe tbody tr th {\n",
       "        vertical-align: top;\n",
       "    }\n",
       "\n",
       "    .dataframe thead tr th {\n",
       "        text-align: left;\n",
       "    }\n",
       "</style>\n",
       "<table border=\"1\" class=\"dataframe\">\n",
       "  <thead>\n",
       "    <tr>\n",
       "      <th></th>\n",
       "      <th colspan=\"2\" halign=\"left\">all-MiniLM-L12-v1</th>\n",
       "    </tr>\n",
       "    <tr>\n",
       "      <th></th>\n",
       "      <th>pca</th>\n",
       "      <th>NaN</th>\n",
       "    </tr>\n",
       "  </thead>\n",
       "  <tbody>\n",
       "    <tr>\n",
       "      <th>NDCG@1</th>\n",
       "      <td>0.38667</td>\n",
       "      <td>0.49667</td>\n",
       "    </tr>\n",
       "    <tr>\n",
       "      <th>NDCG@3</th>\n",
       "      <td>0.46472</td>\n",
       "      <td>0.56936</td>\n",
       "    </tr>\n",
       "    <tr>\n",
       "      <th>NDCG@5</th>\n",
       "      <td>0.48924</td>\n",
       "      <td>0.59417</td>\n",
       "    </tr>\n",
       "    <tr>\n",
       "      <th>NDCG@10</th>\n",
       "      <td>0.51689</td>\n",
       "      <td>0.62170</td>\n",
       "    </tr>\n",
       "    <tr>\n",
       "      <th>NDCG@100</th>\n",
       "      <td>0.56530</td>\n",
       "      <td>0.65990</td>\n",
       "    </tr>\n",
       "    <tr>\n",
       "      <th>NDCG@1000</th>\n",
       "      <td>0.57961</td>\n",
       "      <td>0.66767</td>\n",
       "    </tr>\n",
       "    <tr>\n",
       "      <th>MAP@1</th>\n",
       "      <td>0.36872</td>\n",
       "      <td>0.48139</td>\n",
       "    </tr>\n",
       "    <tr>\n",
       "      <th>MAP@3</th>\n",
       "      <td>0.43694</td>\n",
       "      <td>0.54461</td>\n",
       "    </tr>\n",
       "    <tr>\n",
       "      <th>MAP@5</th>\n",
       "      <td>0.45279</td>\n",
       "      <td>0.56156</td>\n",
       "    </tr>\n",
       "    <tr>\n",
       "      <th>MAP@10</th>\n",
       "      <td>0.46607</td>\n",
       "      <td>0.57537</td>\n",
       "    </tr>\n",
       "    <tr>\n",
       "      <th>MAP@100</th>\n",
       "      <td>0.47659</td>\n",
       "      <td>0.58381</td>\n",
       "    </tr>\n",
       "    <tr>\n",
       "      <th>MAP@1000</th>\n",
       "      <td>0.47709</td>\n",
       "      <td>0.58409</td>\n",
       "    </tr>\n",
       "    <tr>\n",
       "      <th>Recall@1</th>\n",
       "      <td>0.36872</td>\n",
       "      <td>0.48139</td>\n",
       "    </tr>\n",
       "    <tr>\n",
       "      <th>Recall@3</th>\n",
       "      <td>0.51856</td>\n",
       "      <td>0.61589</td>\n",
       "    </tr>\n",
       "    <tr>\n",
       "      <th>Recall@5</th>\n",
       "      <td>0.58006</td>\n",
       "      <td>0.67694</td>\n",
       "    </tr>\n",
       "    <tr>\n",
       "      <th>Recall@10</th>\n",
       "      <td>0.65944</td>\n",
       "      <td>0.75400</td>\n",
       "    </tr>\n",
       "    <tr>\n",
       "      <th>Recall@100</th>\n",
       "      <td>0.88267</td>\n",
       "      <td>0.93000</td>\n",
       "    </tr>\n",
       "    <tr>\n",
       "      <th>Recall@1000</th>\n",
       "      <td>0.99667</td>\n",
       "      <td>0.99167</td>\n",
       "    </tr>\n",
       "    <tr>\n",
       "      <th>P@1</th>\n",
       "      <td>0.38667</td>\n",
       "      <td>0.49667</td>\n",
       "    </tr>\n",
       "    <tr>\n",
       "      <th>P@3</th>\n",
       "      <td>0.18778</td>\n",
       "      <td>0.22333</td>\n",
       "    </tr>\n",
       "    <tr>\n",
       "      <th>P@5</th>\n",
       "      <td>0.12800</td>\n",
       "      <td>0.15067</td>\n",
       "    </tr>\n",
       "    <tr>\n",
       "      <th>P@10</th>\n",
       "      <td>0.07500</td>\n",
       "      <td>0.08567</td>\n",
       "    </tr>\n",
       "    <tr>\n",
       "      <th>P@100</th>\n",
       "      <td>0.01003</td>\n",
       "      <td>0.01057</td>\n",
       "    </tr>\n",
       "    <tr>\n",
       "      <th>P@1000</th>\n",
       "      <td>0.00113</td>\n",
       "      <td>0.00112</td>\n",
       "    </tr>\n",
       "  </tbody>\n",
       "</table>\n",
       "</div>"
      ],
      "text/plain": [
       "            all-MiniLM-L12-v1         \n",
       "                          pca      NaN\n",
       "NDCG@1                0.38667  0.49667\n",
       "NDCG@3                0.46472  0.56936\n",
       "NDCG@5                0.48924  0.59417\n",
       "NDCG@10               0.51689  0.62170\n",
       "NDCG@100              0.56530  0.65990\n",
       "NDCG@1000             0.57961  0.66767\n",
       "MAP@1                 0.36872  0.48139\n",
       "MAP@3                 0.43694  0.54461\n",
       "MAP@5                 0.45279  0.56156\n",
       "MAP@10                0.46607  0.57537\n",
       "MAP@100               0.47659  0.58381\n",
       "MAP@1000              0.47709  0.58409\n",
       "Recall@1              0.36872  0.48139\n",
       "Recall@3              0.51856  0.61589\n",
       "Recall@5              0.58006  0.67694\n",
       "Recall@10             0.65944  0.75400\n",
       "Recall@100            0.88267  0.93000\n",
       "Recall@1000           0.99667  0.99167\n",
       "P@1                   0.38667  0.49667\n",
       "P@3                   0.18778  0.22333\n",
       "P@5                   0.12800  0.15067\n",
       "P@10                  0.07500  0.08567\n",
       "P@100                 0.01003  0.01057\n",
       "P@1000                0.00113  0.00112"
      ]
     },
     "execution_count": 5,
     "metadata": {},
     "output_type": "execute_result"
    }
   ],
   "source": [
    "pd.concat(df_list)"
   ]
  }
 ],
 "metadata": {
  "kernelspec": {
   "display_name": "colab",
   "language": "python",
   "name": "python3"
  },
  "language_info": {
   "codemirror_mode": {
    "name": "ipython",
    "version": 3
   },
   "file_extension": ".py",
   "mimetype": "text/x-python",
   "name": "python",
   "nbconvert_exporter": "python",
   "pygments_lexer": "ipython3",
   "version": "3.10.12"
  }
 },
 "nbformat": 4,
 "nbformat_minor": 2
}
